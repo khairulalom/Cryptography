{
 "cells": [
  {
   "cell_type": "markdown",
   "id": "ca6f1d71",
   "metadata": {},
   "source": [
    "# RSA Algorithm"
   ]
  },
  {
   "cell_type": "code",
   "execution_count": 40,
   "id": "fa87d470",
   "metadata": {},
   "outputs": [],
   "source": [
    "import random\n",
    "def isprime(num):\n",
    "    for i in range(2,num):\n",
    "        if num%i==0 :\n",
    "            return False\n",
    "    return True\n",
    "\n",
    "def gcd(a,b):\n",
    "    if b==0 :\n",
    "        return a\n",
    "    return gcd(b,a%b)\n",
    "\n",
    "def primeList(rng):\n",
    "    pml=[]\n",
    "    for i in range(1,rng):\n",
    "        if isprime(i):\n",
    "            pml+=[i]\n",
    "    return pml\n",
    "\n",
    "def publicKey(qn):\n",
    "    while(True):\n",
    "        temkey=random.choice(range(1,50))\n",
    "        if gcd(temkey,qn)==1:\n",
    "            return temkey\n",
    "\n",
    "isint= lambda num: num==round(num)\n",
    "    \n",
    "def privateKey(e,qn):\n",
    "    i=1\n",
    "    while(True):\n",
    "        if isint((i*e-1)/qn):\n",
    "            return i\n",
    "        else:\n",
    "            i+=1\n"
   ]
  },
  {
   "cell_type": "code",
   "execution_count": 41,
   "id": "ad0d569c",
   "metadata": {},
   "outputs": [
    {
     "data": {
      "text/plain": [
       "False"
      ]
     },
     "execution_count": 41,
     "metadata": {},
     "output_type": "execute_result"
    }
   ],
   "source": [
    "isprime(10)"
   ]
  },
  {
   "cell_type": "markdown",
   "id": "47d25168",
   "metadata": {},
   "source": [
    "## Main Part"
   ]
  },
  {
   "cell_type": "code",
   "execution_count": 43,
   "id": "73b61245",
   "metadata": {},
   "outputs": [
    {
     "name": "stdout",
     "output_type": "stream",
     "text": [
      "Enter message : qw975%6f hello mija foir \n",
      "\n",
      "RSA Algorithm\n",
      "Public Key :  23\n",
      "Private Key:  1255\n",
      "ӭёրэЧЩ՛ղȹǥ2ՍՍƉȹŏŎʓõȹղƉŎ̄ȹ 25\n",
      "qw975%6f hello mija foir \n"
     ]
    }
   ],
   "source": [
    "p=random.choice(primeList(100))\n",
    "q=random.choice(primeList(100))\n",
    "n=p*q\n",
    "qn=(p-1)*(q-1)\n",
    "pb=publicKey(qn)\n",
    "pv=privateKey(pb,qn)\n",
    "msg=input('Enter message : ')\n",
    "cipher=''\n",
    "plaint=''\n",
    "print('\\nRSA Algorithm')\n",
    "print('Public Key : ',pb)\n",
    "print('Private Key: ',pv)\n",
    "\n",
    "# Encryption Part \n",
    "for m in msg:\n",
    "    cipher+=chr((ord(m)**pb)%n)\n",
    "print(cipher,len(cipher))\n",
    "\n",
    "# Decryption Part\n",
    "for c in cipher:\n",
    "    plaint+=chr((ord(c)**pv)%n)\n",
    "print(plaint)"
   ]
  },
  {
   "cell_type": "code",
   "execution_count": null,
   "id": "36aff503",
   "metadata": {},
   "outputs": [],
   "source": []
  },
  {
   "cell_type": "code",
   "execution_count": null,
   "id": "1bd46208",
   "metadata": {},
   "outputs": [],
   "source": []
  }
 ],
 "metadata": {
  "kernelspec": {
   "display_name": "Python 3",
   "language": "python",
   "name": "python3"
  },
  "language_info": {
   "codemirror_mode": {
    "name": "ipython",
    "version": 3
   },
   "file_extension": ".py",
   "mimetype": "text/x-python",
   "name": "python",
   "nbconvert_exporter": "python",
   "pygments_lexer": "ipython3",
   "version": "3.8.8"
  }
 },
 "nbformat": 4,
 "nbformat_minor": 5
}
