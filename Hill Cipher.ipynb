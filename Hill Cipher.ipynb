{
 "cells": [
  {
   "cell_type": "markdown",
   "id": "541f7d4c",
   "metadata": {},
   "source": [
    "# Hill Cipher Algorithm"
   ]
  },
  {
   "cell_type": "markdown",
   "id": "f0fc6818",
   "metadata": {},
   "source": [
    "## Encryption "
   ]
  },
  {
   "cell_type": "code",
   "execution_count": 79,
   "id": "3b0abff1",
   "metadata": {},
   "outputs": [],
   "source": [
    "alphabet='abcdefghijklmnopqrstuvwxyz '\n",
    "plaintext='nice journeys'\n",
    "key=[['h','i'],['l','l']]"
   ]
  },
  {
   "cell_type": "markdown",
   "id": "303fcc17",
   "metadata": {},
   "source": [
    "#### Convert Plaintext & key to valued Matrix "
   ]
  },
  {
   "cell_type": "code",
   "execution_count": 80,
   "id": "5c48aece",
   "metadata": {},
   "outputs": [],
   "source": [
    "if len(plaintext)%2 != 0 :\n",
    "    plaintext+=' '\n",
    "ptmat=[]\n",
    "keymat=[]\n",
    "for value in key:\n",
    "    keymat.append([ord(value[0])-97,ord(value[1])-97])\n",
    "\n",
    "for i in range(0,len(plaintext),2) :\n",
    "    if plaintext[i] == ' ':\n",
    "        ptmat.append([26,ord(plaintext[i+1])-97])\n",
    "    elif plaintext[i+1] == ' ':\n",
    "        ptmat.append([ord(plaintext[i])-97,26])\n",
    "    else:\n",
    "        ptmat.append([(ord(plaintext[i])-97),(ord(plaintext[i+1])-97)])"
   ]
  },
  {
   "cell_type": "markdown",
   "id": "a22ffebf",
   "metadata": {},
   "source": [
    "#### Compute Cipher"
   ]
  },
  {
   "cell_type": "code",
   "execution_count": 81,
   "id": "e9dcaa24",
   "metadata": {},
   "outputs": [],
   "source": [
    "\n",
    "cmat=[]\n",
    "cipher=''\n",
    "for msg in ptmat:\n",
    "    cmat.append(((keymat[0][0]*msg[0])+(keymat[0][1]*msg[1]))%27)\n",
    "    cmat.append(((keymat[1][0]*msg[0])+(keymat[1][1]*msg[1]))%27)\n",
    "for c in cmat:\n",
    "    cipher+=alphabet[c]\n"
   ]
  },
  {
   "cell_type": "markdown",
   "id": "15081709",
   "metadata": {},
   "source": [
    "#### Output Encrypted Text"
   ]
  },
  {
   "cell_type": "code",
   "execution_count": 82,
   "id": "31d9ec0f",
   "metadata": {},
   "outputs": [
    {
     "name": "stdout",
     "output_type": "stream",
     "text": [
      "Plain Text  :  nice journeys \n",
      "Cipher Text :  uptmlhpxhgelkz\n"
     ]
    }
   ],
   "source": [
    "print('Plain Text  : ',plaintext)\n",
    "print('Cipher Text : ',cipher)"
   ]
  },
  {
   "cell_type": "markdown",
   "id": "cd1ab5cc",
   "metadata": {},
   "source": [
    "## Decryption"
   ]
  },
  {
   "cell_type": "markdown",
   "id": "e6322d92",
   "metadata": {},
   "source": [
    "#### Compute Inverse Determinant of key Matrix"
   ]
  },
  {
   "cell_type": "code",
   "execution_count": 83,
   "id": "47ecde8c",
   "metadata": {},
   "outputs": [],
   "source": [
    "detm=((keymat[0][0]*keymat[1][1])-(keymat[0][1]*keymat[1][0]))%27\n",
    "invdet=0\n",
    "while(True):\n",
    "    if (invdet*detm)%27 == 1:\n",
    "        break\n",
    "    else:\n",
    "        invdet+=1"
   ]
  },
  {
   "cell_type": "markdown",
   "id": "1b3cbd65",
   "metadata": {},
   "source": [
    "#### Compute Inverse Matrix"
   ]
  },
  {
   "cell_type": "code",
   "execution_count": 84,
   "id": "de20399d",
   "metadata": {},
   "outputs": [],
   "source": [
    "adjm=[[keymat[1][1],(-keymat[0][1])%27],[(-keymat[1][0])%27,keymat[0][0]]]\n",
    "invmat=[[(invdet*adjm[0][0])%27,(invdet*adjm[0][1])%27],[(invdet*adjm[1][0])%27,(invdet*adjm[1][1])%27]]\n"
   ]
  },
  {
   "cell_type": "markdown",
   "id": "2e4c0d1e",
   "metadata": {},
   "source": [
    "#### De-Cipher"
   ]
  },
  {
   "cell_type": "code",
   "execution_count": 85,
   "id": "144d5178",
   "metadata": {},
   "outputs": [
    {
     "name": "stdout",
     "output_type": "stream",
     "text": [
      "[20, 15, 19, 12, 11, 7, 15, 23, 7, 6, 4, 11, 10, 25]\n",
      "nice journeys \n"
     ]
    }
   ],
   "source": [
    "pt=''\n",
    "print(cmat)\n",
    "for i in range(0,len(cmat),2):\n",
    "    pt+=(alphabet[(invmat[0][0]*cmat[i]+invmat[0][1]*cmat[i+1])%27])\n",
    "    pt+=(alphabet[(invmat[1][0]*cmat[i]+invmat[1][1]*cmat[i+1])%27])\n",
    "print(pt)"
   ]
  },
  {
   "cell_type": "code",
   "execution_count": null,
   "id": "5b5d8ae3",
   "metadata": {},
   "outputs": [],
   "source": []
  }
 ],
 "metadata": {
  "kernelspec": {
   "display_name": "Python 3",
   "language": "python",
   "name": "python3"
  },
  "language_info": {
   "codemirror_mode": {
    "name": "ipython",
    "version": 3
   },
   "file_extension": ".py",
   "mimetype": "text/x-python",
   "name": "python",
   "nbconvert_exporter": "python",
   "pygments_lexer": "ipython3",
   "version": "3.8.8"
  }
 },
 "nbformat": 4,
 "nbformat_minor": 5
}
