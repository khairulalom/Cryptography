{
 "cells": [
  {
   "cell_type": "markdown",
   "id": "2143d222",
   "metadata": {},
   "source": [
    "# Reverse Cipher Algorithm"
   ]
  },
  {
   "cell_type": "markdown",
   "id": "86f78ef5",
   "metadata": {},
   "source": [
    "### Encryption Part :"
   ]
  },
  {
   "cell_type": "code",
   "execution_count": 10,
   "id": "60fb799d",
   "metadata": {},
   "outputs": [
    {
     "name": "stdout",
     "output_type": "stream",
     "text": [
      "Enter Message : enjoy journey\n",
      "Cipher Text   :  yenruoj yojne\n"
     ]
    }
   ],
   "source": [
    "message=input('Enter Message : ')\n",
    "cipher=message[::-1]\n",
    "print('Cipher Text   : ',cipher)"
   ]
  },
  {
   "cell_type": "markdown",
   "id": "fa41de83",
   "metadata": {},
   "source": [
    "### Decryption Part :"
   ]
  },
  {
   "cell_type": "code",
   "execution_count": 11,
   "id": "52979c2f",
   "metadata": {},
   "outputs": [
    {
     "name": "stdout",
     "output_type": "stream",
     "text": [
      "Cipher Text  :  yenruoj yojne\n",
      "PlainText    :  enjoy journey\n"
     ]
    }
   ],
   "source": [
    "plaintext=cipher[::-1]\n",
    "print('Cipher Text  : ',cipher)\n",
    "print('PlainText    : ',plaintext)\n"
   ]
  },
  {
   "cell_type": "code",
   "execution_count": null,
   "id": "fa16e968",
   "metadata": {},
   "outputs": [],
   "source": []
  },
  {
   "cell_type": "code",
   "execution_count": null,
   "id": "105a185d",
   "metadata": {},
   "outputs": [],
   "source": []
  }
 ],
 "metadata": {
  "kernelspec": {
   "display_name": "Python 3",
   "language": "python",
   "name": "python3"
  },
  "language_info": {
   "codemirror_mode": {
    "name": "ipython",
    "version": 3
   },
   "file_extension": ".py",
   "mimetype": "text/x-python",
   "name": "python",
   "nbconvert_exporter": "python",
   "pygments_lexer": "ipython3",
   "version": "3.8.8"
  }
 },
 "nbformat": 4,
 "nbformat_minor": 5
}
